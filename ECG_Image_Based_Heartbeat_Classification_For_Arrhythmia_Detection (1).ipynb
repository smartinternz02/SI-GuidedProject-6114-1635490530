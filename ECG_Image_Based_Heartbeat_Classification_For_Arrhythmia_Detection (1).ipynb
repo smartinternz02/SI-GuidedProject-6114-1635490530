{
  "nbformat": 4,
  "nbformat_minor": 0,
  "metadata": {
    "kernelspec": {
      "display_name": "Python 3",
      "language": "python",
      "name": "python3"
    },
    "language_info": {
      "codemirror_mode": {
        "name": "ipython",
        "version": 3
      },
      "file_extension": ".py",
      "mimetype": "text/x-python",
      "name": "python",
      "nbconvert_exporter": "python",
      "pygments_lexer": "ipython3",
      "version": "3.8.3"
    },
    "colab": {
      "name": "ECG- Image Based Heartbeat Classification For Arrhythmia Detection.ipynb",
      "provenance": []
    },
    "accelerator": "GPU"
  },
  "cells": [
    {
      "cell_type": "markdown",
      "metadata": {
        "id": "Bp68lnisMgVj"
      },
      "source": [
        "### import necessary libraries"
      ]
    },
    {
      "cell_type": "code",
      "metadata": {
        "colab": {
          "base_uri": "https://localhost:8080/"
        },
        "id": "trQPwvkIqzWJ",
        "outputId": "59be1eb1-9299-488c-c5af-436e05e27d9a"
      },
      "source": [
        "from google.colab import drive\n",
        "drive.mount('/content/drive/')"
      ],
      "execution_count": null,
      "outputs": [
        {
          "output_type": "stream",
          "name": "stdout",
          "text": [
            "Drive already mounted at /content/drive/; to attempt to forcibly remount, call drive.mount(\"/content/drive/\", force_remount=True).\n"
          ]
        }
      ]
    },
    {
      "cell_type": "code",
      "metadata": {
        "id": "Eetfp3AOMgVt"
      },
      "source": [
        "from tensorflow.keras.models import Sequential\n",
        "from tensorflow.keras.layers import Dense\n",
        "from tensorflow.keras.layers import Convolution2D\n",
        "from tensorflow.keras.layers import MaxPooling2D\n",
        "from tensorflow.keras.layers import Flatten"
      ],
      "execution_count": null,
      "outputs": []
    },
    {
      "cell_type": "code",
      "metadata": {
        "id": "IKWibHb7MgVw"
      },
      "source": [
        "from keras.preprocessing.image import ImageDataGenerator"
      ],
      "execution_count": null,
      "outputs": []
    },
    {
      "cell_type": "code",
      "metadata": {
        "id": "E0IW-y9gMgVx"
      },
      "source": [
        "train_datagen=ImageDataGenerator(rescale=1./255,shear_range=0.2,zoom_range=0.2,\n",
        "                                 horizontal_flip=True)\n",
        "test_datagen=ImageDataGenerator(rescale=1./255)"
      ],
      "execution_count": null,
      "outputs": []
    },
    {
      "cell_type": "code",
      "metadata": {
        "colab": {
          "base_uri": "https://localhost:8080/"
        },
        "id": "rXPSZFWiMgVy",
        "outputId": "1308c8df-78b3-431d-cdb0-9474eb7858ad"
      },
      "source": [
        "x_train=train_datagen.flow_from_directory(\"/content/drive/MyDrive/ECGDataset/ECG-Images/train\", target_size=(64,64),batch_size=64,class_mode=\"categorical\")\n",
        "x_test=test_datagen.flow_from_directory(\"/content/drive/MyDrive/ECGDataset/ECG-Images/test\",\n",
        "                                          target_size=(64,64),batch_size=64,class_mode=\"categorical\")"
      ],
      "execution_count": null,
      "outputs": [
        {
          "output_type": "stream",
          "name": "stdout",
          "text": [
            "Found 15341 images belonging to 6 classes.\n",
            "Found 6825 images belonging to 6 classes.\n"
          ]
        }
      ]
    },
    {
      "cell_type": "code",
      "metadata": {
        "id": "_4OhWiZjMgV0",
        "colab": {
          "base_uri": "https://localhost:8080/"
        },
        "outputId": "24fd70e0-0653-4b25-df1d-a0232df6fb51"
      },
      "source": [
        "print(x_train.class_indices)"
      ],
      "execution_count": null,
      "outputs": [
        {
          "output_type": "stream",
          "name": "stdout",
          "text": [
            "{'Left Bundle Branch Block': 0, 'Normal': 1, 'Premature Atrial Contraction': 2, 'Premature Ventricular Contractions': 3, 'Right Bundle Branch Block': 4, 'Ventricular Fibrillation': 5}\n"
          ]
        }
      ]
    },
    {
      "cell_type": "code",
      "metadata": {
        "id": "F_UlGY7MMgV1"
      },
      "source": [
        "model=Sequential()"
      ],
      "execution_count": null,
      "outputs": []
    },
    {
      "cell_type": "code",
      "metadata": {
        "id": "mqWZjDvrMgV3"
      },
      "source": [
        "#adding convolution layer(no.of filters,filter size,input shape,activation function)\n",
        "model.add(Convolution2D(32,(3,3),input_shape=(64,64,3),activation=\"relu\"))"
      ],
      "execution_count": null,
      "outputs": []
    },
    {
      "cell_type": "code",
      "metadata": {
        "id": "a3VBpLbZMgV4"
      },
      "source": [
        "#adding max pooling layer(pool_size)\n",
        "model.add(MaxPooling2D(pool_size=(2,2)))"
      ],
      "execution_count": null,
      "outputs": []
    },
    {
      "cell_type": "code",
      "metadata": {
        "id": "sYwysNkhMgV5"
      },
      "source": [
        "#input layer of ann\n",
        "model.add(Flatten())"
      ],
      "execution_count": null,
      "outputs": []
    },
    {
      "cell_type": "code",
      "metadata": {
        "id": "LT7TMZByMgV6"
      },
      "source": [
        "#add hidden layer(no.of neurons,activation=relu,weights)\n",
        "model.add(Dense(units=128,activation=\"relu\"))"
      ],
      "execution_count": null,
      "outputs": []
    },
    {
      "cell_type": "code",
      "metadata": {
        "id": "pRVVl2bMMgV7"
      },
      "source": [
        "#add output layer(no.of output classes=5,activation function=softmax)\n",
        "model.add(Dense(units=6,activation=\"softmax\"))"
      ],
      "execution_count": null,
      "outputs": []
    },
    {
      "cell_type": "code",
      "metadata": {
        "id": "WdlCB7YvMgV8",
        "colab": {
          "base_uri": "https://localhost:8080/"
        },
        "outputId": "ba02fcbc-e911-4890-b955-94dfb7ab7a5e"
      },
      "source": [
        "model.summary()"
      ],
      "execution_count": null,
      "outputs": [
        {
          "output_type": "stream",
          "name": "stdout",
          "text": [
            "Model: \"sequential\"\n",
            "_________________________________________________________________\n",
            " Layer (type)                Output Shape              Param #   \n",
            "=================================================================\n",
            " conv2d (Conv2D)             (None, 62, 62, 32)        896       \n",
            "                                                                 \n",
            " max_pooling2d (MaxPooling2D  (None, 31, 31, 32)       0         \n",
            " )                                                               \n",
            "                                                                 \n",
            " flatten (Flatten)           (None, 30752)             0         \n",
            "                                                                 \n",
            " dense (Dense)               (None, 128)               3936384   \n",
            "                                                                 \n",
            " dense_1 (Dense)             (None, 6)                 774       \n",
            "                                                                 \n",
            "=================================================================\n",
            "Total params: 3,938,054\n",
            "Trainable params: 3,938,054\n",
            "Non-trainable params: 0\n",
            "_________________________________________________________________\n"
          ]
        }
      ]
    },
    {
      "cell_type": "code",
      "metadata": {
        "id": "Rs9LDZV-MgV9"
      },
      "source": [
        "#configure the learning process(loss fucntion,accuracy,optimizer)\n",
        "model.compile(loss=\"categorical_crossentropy\",optimizer=\"adam\",metrics=[\"accuracy\"])"
      ],
      "execution_count": null,
      "outputs": []
    },
    {
      "cell_type": "code",
      "metadata": {
        "id": "Dg5QLvl_MgV9",
        "colab": {
          "base_uri": "https://localhost:8080/"
        },
        "outputId": "cf936b0b-da48-4921-9308-9269b33c1f50"
      },
      "source": [
        "`"
      ],
      "execution_count": null,
      "outputs": [
        {
          "output_type": "stream",
          "name": "stdout",
          "text": [
            "Epoch 1/50\n",
            "239/239 [==============================] - 4699s 20s/step - loss: 1.1812 - accuracy: 0.5859 - val_loss: 0.8609 - val_accuracy: 0.6648\n",
            "Epoch 2/50\n",
            "239/239 [==============================] - 65s 273ms/step - loss: 0.4554 - accuracy: 0.8547 - val_loss: 0.5361 - val_accuracy: 0.7892\n",
            "Epoch 3/50\n",
            "239/239 [==============================] - 64s 267ms/step - loss: 0.3088 - accuracy: 0.9046 - val_loss: 0.4432 - val_accuracy: 0.8383\n",
            "Epoch 4/50\n",
            "239/239 [==============================] - 64s 268ms/step - loss: 0.2617 - accuracy: 0.9216 - val_loss: 0.4201 - val_accuracy: 0.8499\n",
            "Epoch 5/50\n",
            "239/239 [==============================] - 64s 267ms/step - loss: 0.2294 - accuracy: 0.9314 - val_loss: 0.4276 - val_accuracy: 0.8632\n",
            "Epoch 6/50\n",
            "239/239 [==============================] - 64s 268ms/step - loss: 0.2083 - accuracy: 0.9386 - val_loss: 0.3700 - val_accuracy: 0.8897\n",
            "Epoch 7/50\n",
            "239/239 [==============================] - 65s 272ms/step - loss: 0.2013 - accuracy: 0.9410 - val_loss: 0.3515 - val_accuracy: 0.8875\n",
            "Epoch 8/50\n",
            "239/239 [==============================] - 65s 271ms/step - loss: 0.1887 - accuracy: 0.9429 - val_loss: 0.3300 - val_accuracy: 0.8886\n",
            "Epoch 9/50\n",
            "239/239 [==============================] - 64s 269ms/step - loss: 0.1820 - accuracy: 0.9463 - val_loss: 0.3879 - val_accuracy: 0.8721\n",
            "Epoch 10/50\n",
            "239/239 [==============================] - 64s 267ms/step - loss: 0.1668 - accuracy: 0.9516 - val_loss: 0.3486 - val_accuracy: 0.8918\n",
            "Epoch 11/50\n",
            "239/239 [==============================] - 65s 271ms/step - loss: 0.1547 - accuracy: 0.9551 - val_loss: 0.3876 - val_accuracy: 0.8539\n",
            "Epoch 12/50\n",
            "239/239 [==============================] - 65s 271ms/step - loss: 0.1452 - accuracy: 0.9559 - val_loss: 0.4031 - val_accuracy: 0.8544\n",
            "Epoch 13/50\n",
            "239/239 [==============================] - 65s 271ms/step - loss: 0.1366 - accuracy: 0.9597 - val_loss: 0.4550 - val_accuracy: 0.8460\n",
            "Epoch 14/50\n",
            "239/239 [==============================] - 66s 275ms/step - loss: 0.1244 - accuracy: 0.9619 - val_loss: 0.4269 - val_accuracy: 0.8591\n",
            "Epoch 15/50\n",
            "239/239 [==============================] - 64s 270ms/step - loss: 0.1153 - accuracy: 0.9650 - val_loss: 0.3597 - val_accuracy: 0.8765\n",
            "Epoch 16/50\n",
            "239/239 [==============================] - 64s 269ms/step - loss: 0.1080 - accuracy: 0.9677 - val_loss: 0.4166 - val_accuracy: 0.8530\n",
            "Epoch 17/50\n",
            "239/239 [==============================] - 64s 270ms/step - loss: 0.1010 - accuracy: 0.9702 - val_loss: 0.4930 - val_accuracy: 0.8538\n",
            "Epoch 18/50\n",
            "239/239 [==============================] - 65s 270ms/step - loss: 0.0954 - accuracy: 0.9717 - val_loss: 0.4635 - val_accuracy: 0.8598\n",
            "Epoch 19/50\n",
            "239/239 [==============================] - 64s 267ms/step - loss: 0.0894 - accuracy: 0.9737 - val_loss: 0.5163 - val_accuracy: 0.8510\n",
            "Epoch 20/50\n",
            "239/239 [==============================] - 65s 272ms/step - loss: 0.0840 - accuracy: 0.9752 - val_loss: 0.4880 - val_accuracy: 0.8508\n",
            "Epoch 21/50\n",
            "239/239 [==============================] - 65s 271ms/step - loss: 0.0815 - accuracy: 0.9755 - val_loss: 0.5624 - val_accuracy: 0.8426\n",
            "Epoch 22/50\n",
            "239/239 [==============================] - 64s 268ms/step - loss: 0.0784 - accuracy: 0.9762 - val_loss: 0.5631 - val_accuracy: 0.8533\n",
            "Epoch 23/50\n",
            "239/239 [==============================] - 64s 267ms/step - loss: 0.0712 - accuracy: 0.9784 - val_loss: 0.6236 - val_accuracy: 0.8573\n",
            "Epoch 24/50\n",
            "239/239 [==============================] - 64s 268ms/step - loss: 0.0734 - accuracy: 0.9776 - val_loss: 0.6096 - val_accuracy: 0.8352\n",
            "Epoch 25/50\n",
            "239/239 [==============================] - 63s 265ms/step - loss: 0.0629 - accuracy: 0.9808 - val_loss: 0.6225 - val_accuracy: 0.8614\n",
            "Epoch 26/50\n",
            "239/239 [==============================] - 63s 264ms/step - loss: 0.0610 - accuracy: 0.9811 - val_loss: 0.6947 - val_accuracy: 0.8629\n",
            "Epoch 27/50\n",
            "239/239 [==============================] - 65s 270ms/step - loss: 0.0611 - accuracy: 0.9813 - val_loss: 0.8034 - val_accuracy: 0.8514\n",
            "Epoch 28/50\n",
            "239/239 [==============================] - 63s 264ms/step - loss: 0.0593 - accuracy: 0.9800 - val_loss: 0.7458 - val_accuracy: 0.8557\n",
            "Epoch 29/50\n",
            "239/239 [==============================] - 63s 263ms/step - loss: 0.0516 - accuracy: 0.9842 - val_loss: 0.6374 - val_accuracy: 0.8563\n",
            "Epoch 30/50\n",
            "239/239 [==============================] - 63s 264ms/step - loss: 0.0519 - accuracy: 0.9829 - val_loss: 0.6800 - val_accuracy: 0.8663\n",
            "Epoch 31/50\n",
            "239/239 [==============================] - 62s 261ms/step - loss: 0.0529 - accuracy: 0.9838 - val_loss: 0.6238 - val_accuracy: 0.8693\n",
            "Epoch 32/50\n",
            "239/239 [==============================] - 63s 263ms/step - loss: 0.0446 - accuracy: 0.9868 - val_loss: 0.7229 - val_accuracy: 0.8608\n",
            "Epoch 33/50\n",
            "239/239 [==============================] - 64s 268ms/step - loss: 0.0448 - accuracy: 0.9858 - val_loss: 0.6567 - val_accuracy: 0.8588\n",
            "Epoch 34/50\n",
            "239/239 [==============================] - 64s 267ms/step - loss: 0.0432 - accuracy: 0.9875 - val_loss: 0.7142 - val_accuracy: 0.8595\n",
            "Epoch 35/50\n",
            "239/239 [==============================] - 64s 269ms/step - loss: 0.0428 - accuracy: 0.9866 - val_loss: 0.8434 - val_accuracy: 0.8566\n",
            "Epoch 36/50\n",
            "239/239 [==============================] - 65s 271ms/step - loss: 0.0423 - accuracy: 0.9862 - val_loss: 0.7891 - val_accuracy: 0.8669\n",
            "Epoch 37/50\n",
            "239/239 [==============================] - 65s 273ms/step - loss: 0.0388 - accuracy: 0.9876 - val_loss: 0.8010 - val_accuracy: 0.8639\n",
            "Epoch 38/50\n",
            "239/239 [==============================] - 66s 276ms/step - loss: 0.0385 - accuracy: 0.9884 - val_loss: 0.6548 - val_accuracy: 0.8723\n",
            "Epoch 39/50\n",
            "239/239 [==============================] - 65s 272ms/step - loss: 0.0387 - accuracy: 0.9878 - val_loss: 0.8259 - val_accuracy: 0.8604\n",
            "Epoch 40/50\n",
            "239/239 [==============================] - 66s 274ms/step - loss: 0.0338 - accuracy: 0.9895 - val_loss: 0.7778 - val_accuracy: 0.8613\n",
            "Epoch 41/50\n",
            "239/239 [==============================] - 65s 272ms/step - loss: 0.0366 - accuracy: 0.9874 - val_loss: 0.7552 - val_accuracy: 0.8738\n",
            "Epoch 42/50\n",
            "239/239 [==============================] - 65s 271ms/step - loss: 0.0403 - accuracy: 0.9879 - val_loss: 0.7776 - val_accuracy: 0.8713\n",
            "Epoch 43/50\n",
            "239/239 [==============================] - 65s 272ms/step - loss: 0.0318 - accuracy: 0.9895 - val_loss: 0.8980 - val_accuracy: 0.8688\n",
            "Epoch 44/50\n",
            "239/239 [==============================] - 65s 273ms/step - loss: 0.0343 - accuracy: 0.9880 - val_loss: 1.0063 - val_accuracy: 0.8638\n",
            "Epoch 45/50\n",
            "239/239 [==============================] - 72s 300ms/step - loss: 0.0307 - accuracy: 0.9901 - val_loss: 0.8709 - val_accuracy: 0.8644\n",
            "Epoch 46/50\n",
            "239/239 [==============================] - 65s 271ms/step - loss: 0.0299 - accuracy: 0.9910 - val_loss: 0.8678 - val_accuracy: 0.8617\n",
            "Epoch 47/50\n",
            "239/239 [==============================] - 65s 274ms/step - loss: 0.0297 - accuracy: 0.9914 - val_loss: 0.8422 - val_accuracy: 0.8701\n",
            "Epoch 48/50\n",
            "239/239 [==============================] - 66s 275ms/step - loss: 0.0287 - accuracy: 0.9910 - val_loss: 0.9857 - val_accuracy: 0.8589\n",
            "Epoch 49/50\n",
            "239/239 [==============================] - 65s 274ms/step - loss: 0.0287 - accuracy: 0.9906 - val_loss: 0.9948 - val_accuracy: 0.8654\n",
            "Epoch 50/50\n",
            "239/239 [==============================] - 66s 274ms/step - loss: 0.0297 - accuracy: 0.9902 - val_loss: 0.9328 - val_accuracy: 0.8665\n"
          ]
        },
        {
          "output_type": "execute_result",
          "data": {
            "text/plain": [
              "<keras.callbacks.History at 0x7ff2621bdd50>"
            ]
          },
          "metadata": {},
          "execution_count": 16
        }
      ]
    },
    {
      "cell_type": "raw",
      "metadata": {
        "id": "rMu5vTRfMgV-"
      },
      "source": [
        "**steps_per_epoch**=no.of images in train data/batch_size=1495/32=47\n",
        "validation steps=no.of images in test data/batch _size=640/32=20"
      ]
    },
    {
      "cell_type": "code",
      "metadata": {
        "id": "ztbZVB3IMgV-"
      },
      "source": [
        "model.save(\"heart.h5\")"
      ],
      "execution_count": null,
      "outputs": []
    },
    {
      "cell_type": "markdown",
      "metadata": {
        "id": "g4SrVXWhMgV_"
      },
      "source": [
        "### Testing"
      ]
    },
    {
      "cell_type": "code",
      "metadata": {
        "id": "UCLdVRU7MgV_"
      },
      "source": [
        "from tensorflow.keras.models import load_model\n",
        "from keras.preprocessing import image\n",
        "import numpy as np"
      ],
      "execution_count": null,
      "outputs": []
    },
    {
      "cell_type": "code",
      "metadata": {
        "id": "6BbDaU1vMgWA"
      },
      "source": [
        "model=load_model(\"heart.h5\")"
      ],
      "execution_count": null,
      "outputs": []
    },
    {
      "cell_type": "code",
      "metadata": {
        "id": "zDlvLDKKMgWA"
      },
      "source": [
        "img=image.load_img(\"/content/drive/MyDrive/ECGDataset/ECG-Images/test/Ventricular Fibrillation/VFEfig_122.png\",target_size=(64,64))"
      ],
      "execution_count": null,
      "outputs": []
    },
    {
      "cell_type": "code",
      "metadata": {
        "id": "FGKyhuWAMgWB",
        "colab": {
          "base_uri": "https://localhost:8080/",
          "height": 81
        },
        "outputId": "ad0b67a7-906a-4ac0-8cc3-e021b04766d9"
      },
      "source": [
        "img"
      ],
      "execution_count": null,
      "outputs": [
        {
          "output_type": "execute_result",
          "data": {
            "image/png": "[encoded data removed]",
            "text/plain": [
              "<PIL.Image.Image image mode=RGB size=64x64 at 0x7FF25015CAD0>"
            ]
          },
          "metadata": {},
          "execution_count": 29
        }
      ]
    },
    {
      "cell_type": "code",
      "metadata": {
        "id": "gDQ9o-veMgWB"
      },
      "source": [
        "x=image.img_to_array(img)"
      ],
      "execution_count": null,
      "outputs": []
    },
    {
      "cell_type": "code",
      "metadata": {
        "id": "EN8qUtohMgWC",
        "colab": {
          "base_uri": "https://localhost:8080/"
        },
        "outputId": "ef05490d-b6bb-48c3-f09c-09faaab2b441"
      },
      "source": [
        "x"
      ],
      "execution_count": null,
      "outputs": [
        {
          "output_type": "execute_result",
          "data": {
            "text/plain": [
              "array([[[255., 255., 255.],\n",
              "        [255., 255., 255.],\n",
              "        [255., 255., 255.],\n",
              "        ...,\n",
              "        [255., 255., 255.],\n",
              "        [255., 255., 255.],\n",
              "        [255., 255., 255.]],\n",
              "\n",
              "       [[255., 255., 255.],\n",
              "        [255., 255., 255.],\n",
              "        [255., 255., 255.],\n",
              "        ...,\n",
              "        [255., 255., 255.],\n",
              "        [255., 255., 255.],\n",
              "        [255., 255., 255.]],\n",
              "\n",
              "       [[255., 255., 255.],\n",
              "        [255., 255., 255.],\n",
              "        [255., 255., 255.],\n",
              "        ...,\n",
              "        [255., 255., 255.],\n",
              "        [255., 255., 255.],\n",
              "        [255., 255., 255.]],\n",
              "\n",
              "       ...,\n",
              "\n",
              "       [[255., 255., 255.],\n",
              "        [255., 255., 255.],\n",
              "        [255., 255., 255.],\n",
              "        ...,\n",
              "        [255., 255., 255.],\n",
              "        [255., 255., 255.],\n",
              "        [255., 255., 255.]],\n",
              "\n",
              "       [[255., 255., 255.],\n",
              "        [255., 255., 255.],\n",
              "        [255., 255., 255.],\n",
              "        ...,\n",
              "        [255., 255., 255.],\n",
              "        [255., 255., 255.],\n",
              "        [255., 255., 255.]],\n",
              "\n",
              "       [[255., 255., 255.],\n",
              "        [255., 255., 255.],\n",
              "        [255., 255., 255.],\n",
              "        ...,\n",
              "        [255., 255., 255.],\n",
              "        [255., 255., 255.],\n",
              "        [255., 255., 255.]]], dtype=float32)"
            ]
          },
          "metadata": {},
          "execution_count": 31
        }
      ]
    },
    {
      "cell_type": "code",
      "metadata": {
        "id": "VTEG1ghXMgWC",
        "colab": {
          "base_uri": "https://localhost:8080/"
        },
        "outputId": "bb423905-3d2d-4f2e-e062-232fcf759917"
      },
      "source": [
        "x.shape"
      ],
      "execution_count": null,
      "outputs": [
        {
          "output_type": "execute_result",
          "data": {
            "text/plain": [
              "(64, 64, 3)"
            ]
          },
          "metadata": {},
          "execution_count": 32
        }
      ]
    },
    {
      "cell_type": "code",
      "metadata": {
        "id": "b2K-Mc3eMgWD"
      },
      "source": [
        "x=np.expand_dims(x,axis=0)"
      ],
      "execution_count": null,
      "outputs": []
    },
    {
      "cell_type": "code",
      "metadata": {
        "id": "8ecj9XDBMgWD",
        "colab": {
          "base_uri": "https://localhost:8080/"
        },
        "outputId": "f561859f-ab8f-4008-8820-e36b1a164605"
      },
      "source": [
        "x.shape"
      ],
      "execution_count": null,
      "outputs": [
        {
          "output_type": "execute_result",
          "data": {
            "text/plain": [
              "(1, 64, 64, 3)"
            ]
          },
          "metadata": {},
          "execution_count": 34
        }
      ]
    },
    {
      "cell_type": "raw",
      "metadata": {
        "id": "_cWYw0mhMgWD"
      },
      "source": [
        "\n",
        "pred=model.predict_classes(x)\n",
        "\n",
        "\n",
        "pred=np.argmax(model)"
      ]
    },
    {
      "cell_type": "code",
      "metadata": {
        "id": "6NPh3dz1MgWE"
      },
      "source": [
        "y=model.predict(x)\n",
        "pred=np.argmax(y, axis=1)"
      ],
      "execution_count": null,
      "outputs": []
    },
    {
      "cell_type": "code",
      "metadata": {
        "id": "-cVs38njMgWE",
        "colab": {
          "base_uri": "https://localhost:8080/"
        },
        "outputId": "a1cda7ac-8ca7-4993-cb70-8a478158f9af"
      },
      "source": [
        "y"
      ],
      "execution_count": null,
      "outputs": [
        {
          "output_type": "execute_result",
          "data": {
            "text/plain": [
              "array([[0., 0., 0., 0., 0., 1.]], dtype=float32)"
            ]
          },
          "metadata": {},
          "execution_count": 36
        }
      ]
    },
    {
      "cell_type": "code",
      "metadata": {
        "id": "jf4XmToWMgWF",
        "colab": {
          "base_uri": "https://localhost:8080/"
        },
        "outputId": "a1b56083-d7ea-4170-a473-4dc5ab2e1e90"
      },
      "source": [
        "pred"
      ],
      "execution_count": null,
      "outputs": [
        {
          "output_type": "execute_result",
          "data": {
            "text/plain": [
              "array([5])"
            ]
          },
          "metadata": {},
          "execution_count": 37
        }
      ]
    },
    {
      "cell_type": "code",
      "metadata": {
        "id": "PWz5pljAMgWF",
        "colab": {
          "base_uri": "https://localhost:8080/"
        },
        "outputId": "1ed749d8-3be2-402c-bc86-46d1b78afa99"
      },
      "source": [
        "x_train.class_indices"
      ],
      "execution_count": null,
      "outputs": [
        {
          "output_type": "execute_result",
          "data": {
            "text/plain": [
              "{'Left Bundle Branch Block': 0,\n",
              " 'Normal': 1,\n",
              " 'Premature Atrial Contraction': 2,\n",
              " 'Premature Ventricular Contractions': 3,\n",
              " 'Right Bundle Branch Block': 4,\n",
              " 'Ventricular Fibrillation': 5}"
            ]
          },
          "metadata": {},
          "execution_count": 38
        }
      ]
    }
  ]
}